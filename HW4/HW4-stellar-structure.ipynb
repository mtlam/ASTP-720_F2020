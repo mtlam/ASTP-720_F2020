{
 "cells": [
  {
   "cell_type": "markdown",
   "metadata": {},
   "source": [
    "# Homework 4: The Structure of Stellar Remnants\n",
    "\n",
    "I will use my ODE package from HW 3 to solve this problem set."
   ]
  },
  {
   "cell_type": "code",
   "execution_count": 1,
   "metadata": {},
   "outputs": [],
   "source": [
    "%matplotlib inline\n",
    "import numpy as np\n",
    "from matplotlib.pyplot import *\n",
    "from matplotlib import rc\n",
    "from scipy.integrate import odeint\n",
    "from scipy.interpolate import interp1d\n",
    "import astropy.units as u\n",
    "import astropy.constants as const\n",
    "\n",
    "import sys\n",
    "sys.path.append(\"../HW3/\")\n",
    "from ode import euler, heun, RK4\n",
    "\n",
    "# Make more readable plots\n",
    "rc('font',**{'size':14})\n",
    "rc('xtick',**{'labelsize':16})\n",
    "rc('ytick',**{'labelsize':16})\n",
    "rc('axes',**{'labelsize':18,'titlesize':18})"
   ]
  },
  {
   "cell_type": "markdown",
   "metadata": {},
   "source": [
    "Define constants used in the appropriate units."
   ]
  },
  {
   "cell_type": "code",
   "execution_count": 2,
   "metadata": {},
   "outputs": [],
   "source": [
    "G = const.G.cgs.value\n",
    "c = const.c.cgs.value\n",
    "csq = c**2\n",
    "R_earth = const.R_earth.to(u.cm).value\n",
    "M_sun = const.M_sun.to(u.g).value\n",
    "\n",
    "r_step = 200 #number of radial steps to integrate\n",
    "rho_step = 21 #number of steps in rho_c to perform."
   ]
  },
  {
   "cell_type": "markdown",
   "metadata": {},
   "source": [
    "-----\n",
    "\n",
    "## Q1: \n",
    "\n",
    "For central densities in the range $\\rho_c = 10^4 - 10^6$ g/cm$^3$, solve via your RK4 solver the hydrostatic\n",
    "equilibrium equations above for white dwarfs and plot the mass-radius curve. That is, chose a central\n",
    "density. You will then integrate over radial slices $dr$, and once you have $M$ and $R$, you will store that and\n",
    "move onto the next central density. Since you are feeding your solver a list of radial slices to solve at, you\n",
    "can either determine some stopping criterion internally or just give the code a list of slices out to a few\n",
    "$R_\\odot$ (since we know that white dwarfs can't be much larger than this), thereby ensuring that you will hit\n",
    "$P \\approx 0$ somewhere in the array. Once you have your whole list of $M$s and $R$s, plot $M$ versus $R$ and that is\n",
    "the mass-radius curve."
   ]
  },
  {
   "cell_type": "markdown",
   "metadata": {},
   "source": [
    "First I will define relationships between $\\rho$ and $P$ out of convenience, and using `astropy` units."
   ]
  },
  {
   "cell_type": "code",
   "execution_count": 3,
   "metadata": {},
   "outputs": [],
   "source": [
    "prefactor = ((1.0/20) * (3/np.pi)**(2.0/3) * const.h**2 / (const.m_e * const.u**(5.0/3))).cgs\n",
    "\n",
    "def rho_to_P(rho, mu_e=2):\n",
    "    return (prefactor * ((rho*u.g/u.cm**3)/mu_e)**(5.0/3)).to(u.Ba).value\n",
    "\n",
    "def P_to_rho(P, mu_e=2):\n",
    "    return ((P*u.Ba / prefactor)**(3.0/5) * mu_e).to(u.g/u.cm**3).value"
   ]
  },
  {
   "cell_type": "code",
   "execution_count": 4,
   "metadata": {},
   "outputs": [],
   "source": [
    "def dPdr(r, P, M_enc):\n",
    "    if M_enc == 0:\n",
    "        return 0.0 #derivative at the interior is dP/dr = 0\n",
    "    rho = P_to_rho(P)\n",
    "    #print(rho)\n",
    "    return -G*M_enc*rho/r**2\n",
    "\n",
    "def dM_encdr(r, P, M_enc):\n",
    "    rho = P_to_rho(P)\n",
    "    return 4*np.pi*r**2*rho"
   ]
  },
  {
   "cell_type": "markdown",
   "metadata": {},
   "source": [
    "Here we'll show a single iteration based on initial conditions and plot the results of the integration."
   ]
  },
  {
   "cell_type": "code",
   "execution_count": 5,
   "metadata": {},
   "outputs": [],
   "source": [
    "# Initial conditions\n",
    "M_enc0 = 0 \n",
    "rho0 = 1e4 #g/cm^-3\n",
    "P0 = rho_to_P(rho0)"
   ]
  },
  {
   "cell_type": "code",
   "execution_count": 6,
   "metadata": {},
   "outputs": [
    {
     "name": "stderr",
     "output_type": "stream",
     "text": [
      "/usr/local/lib/python3.6/dist-packages/astropy/units/quantity.py:464: RuntimeWarning: invalid value encountered in power\n",
      "  result = super().__array_ufunc__(function, method, *arrays, **kwargs)\n"
     ]
    }
   ],
   "source": [
    "# Perform the integration\n",
    "Rs = np.linspace(0, 5*R_earth, r_step)\n",
    "Ps, M_encs = RK4(Rs, dPdr, P0, dM_encdr, M_enc0)"
   ]
  },
  {
   "cell_type": "code",
   "execution_count": 7,
   "metadata": {},
   "outputs": [
    {
     "data": {
      "image/png": "[encoded data removed]",
      "text/plain": [
       "<Figure size 432x288 with 2 Axes>"
      ]
     },
     "metadata": {
      "needs_background": "light"
     },
     "output_type": "display_data"
    }
   ],
   "source": [
    "# Plot P and M_enc versus radius\n",
    "ax1 = subplot(211)\n",
    "ax1.plot(Rs/R_earth, M_encs/M_sun)\n",
    "ax1.set_ylabel(r'$M_{\\rm enc}~(M_\\odot)$')\n",
    "ax1.set_xticklabels([])\n",
    "ax2 = subplot(212)\n",
    "ax2.plot(Rs/R_earth, Ps)\n",
    "ax2.set_xlabel(r'$R~(R_\\oplus)$')\n",
    "ax2.set_ylabel(r'$P~({\\rm Ba})$')\n",
    "tight_layout()"
   ]
  },
  {
   "cell_type": "markdown",
   "metadata": {},
   "source": [
    "For ease, I have written a function that will return the total mass and radius found after performing the integration."
   ]
  },
  {
   "cell_type": "code",
   "execution_count": 8,
   "metadata": {},
   "outputs": [],
   "source": [
    "def get_mass_radius(Rs, Ps, M_encs):\n",
    "    \"\"\"\n",
    "    Given the results of the ODE output, find when the pressure hits NaN\n",
    "    to find the total mass of the object and its radius\n",
    "    \n",
    "    Parameters\n",
    "    ----------\n",
    "    Rs : np.ndarray\n",
    "        Input radii to the ODE solver\n",
    "    Ps : np.ndarray\n",
    "        Output pressures from the ODE solver\n",
    "    M_encs : np.ndarray\n",
    "        Output enclosed masses from the ODE solver\n",
    "    \n",
    "    Returns\n",
    "    -------\n",
    "    mass : float\n",
    "        Total mass of the object\n",
    "    radius : float\n",
    "        Total radius of the object\n",
    "    \"\"\"\n",
    "    inds = np.where(np.logical_not(np.isnan(Ps)))[0] # indices of all non-NAN values\n",
    "    return M_encs[inds][-1], Rs[inds][-1] # Last value of the non-NAN values"
   ]
  },
  {
   "cell_type": "markdown",
   "metadata": {},
   "source": [
    "You can see that this solution is quite poor compared to the solution via `odeint()`. However, if I up the number of timesteps, I get a much better solution."
   ]
  },
  {
   "cell_type": "code",
   "execution_count": 9,
   "metadata": {},
   "outputs": [
    {
     "name": "stderr",
     "output_type": "stream",
     "text": [
      "/usr/local/lib/python3.6/dist-packages/astropy/units/quantity.py:464: RuntimeWarning: invalid value encountered in power\n",
      "  result = super().__array_ufunc__(function, method, *arrays, **kwargs)\n"
     ]
    }
   ],
   "source": [
    "M_enc0 = 0 \n",
    "Rs = np.linspace(0, 5*R_earth, r_step)\n",
    "rho0s = np.logspace(4, 6, rho_step) #g/cm^3\n",
    "\n",
    "masses = np.zeros(len(rho0s)) #save the outputs in these\n",
    "radii = np.zeros(len(rho0s))\n",
    "\n",
    "for i, rho0 in enumerate(rho0s):\n",
    "    P0 = rho_to_P(rho0)\n",
    "    # Perform the integration\n",
    "    Ps, M_encs = RK4(Rs, dPdr, P0, dM_encdr, M_enc0)\n",
    "    M, R = get_mass_radius(Rs, Ps, M_encs)\n",
    "    masses[i] = M/M_sun\n",
    "    radii[i] = R/R_earth\n"
   ]
  },
  {
   "cell_type": "markdown",
   "metadata": {},
   "source": [
    "Below is the mass-radius plot:"
   ]
  },
  {
   "cell_type": "code",
   "execution_count": 10,
   "metadata": {},
   "outputs": [
    {
     "data": {
      "text/plain": [
       "Text(0.5, 0, '$R~(R_\\\\oplus)$')"
      ]
     },
     "execution_count": 10,
     "metadata": {},
     "output_type": "execute_result"
    },
    {
     "data": {
      "image/png": "[encoded data removed]",
      "text/plain": [
       "<Figure size 432x288 with 1 Axes>"
      ]
     },
     "metadata": {
      "needs_background": "light"
     },
     "output_type": "display_data"
    }
   ],
   "source": [
    "plot(radii, masses, 'k.')\n",
    "ylabel(r'$M~(M_\\odot)$')\n",
    "xlabel(r'$R~(R_\\oplus)$')"
   ]
  },
  {
   "cell_type": "markdown",
   "metadata": {},
   "source": [
    "If we plot it on a log-log scale, we see that it follows a linear trend, which is what we expect from the $M-R$ relation in the non-relativistic regime below the Chandrasekhar mass."
   ]
  },
  {
   "cell_type": "code",
   "execution_count": 11,
   "metadata": {},
   "outputs": [
    {
     "data": {
      "image/png": "[encoded data removed]",
      "text/plain": [
       "<Figure size 432x288 with 1 Axes>"
      ]
     },
     "metadata": {
      "needs_background": "light"
     },
     "output_type": "display_data"
    }
   ],
   "source": [
    "plot(radii, masses, 'k.')\n",
    "ylabel(r'$M~(M_\\odot)$')\n",
    "xlabel(r'$R~(R_\\oplus)$')\n",
    "xscale('log')\n",
    "yscale('log')"
   ]
  },
  {
   "cell_type": "markdown",
   "metadata": {},
   "source": [
    "-----\n",
    "\n",
    "## Q2:\n",
    "\n",
    "For central densities in the range $\\rho_c = 10^{14} - 10^{16}$ g/cm$^{3}$, solve the relativistic hydrostatic equilibrium equations above for neutron stars and plot the mass-radius curve. In this case, your slices only need\n",
    "to go out to maybe 20 km.\n"
   ]
  },
  {
   "cell_type": "markdown",
   "metadata": {},
   "source": [
    "We can use the same machinery as above except that in this case, we have to program the TOV equations for the $dP/dr$ relation."
   ]
  },
  {
   "cell_type": "code",
   "execution_count": 12,
   "metadata": {},
   "outputs": [],
   "source": [
    "prefactor = ((1.0/20) * (3/np.pi)**(2.0/3) * const.h**2 / const.m_n**(8.0/3)).cgs\n",
    "\n",
    "def rho_to_P(rho):\n",
    "    return (prefactor * (rho*u.g/u.cm**3)**(5.0/3)).to(u.Ba).value\n",
    "\n",
    "def P_to_rho(P):\n",
    "    return ((P*u.Ba / prefactor)**(3.0/5)).to(u.g/u.cm**3).value"
   ]
  },
  {
   "cell_type": "code",
   "execution_count": null,
   "metadata": {},
   "outputs": [],
   "source": []
  },
  {
   "cell_type": "code",
   "execution_count": 13,
   "metadata": {},
   "outputs": [],
   "source": [
    "def dPdr_TOV(r, P, M_enc):\n",
    "    if M_enc == 0:\n",
    "        return 0.0 #derivative at the interior is dP/dr = 0\n",
    "    rho = P_to_rho(P)\n",
    "    # Define each of the four terms separately for readability\n",
    "    A = -G*M_enc*rho/r**2\n",
    "    B = 1 + P/(rho*csq)\n",
    "    C = 1 + 4*np.pi*r**3*P/(M_enc*csq)\n",
    "    D = (1 - 2*G*M_enc/(r*csq))**-1\n",
    "    return A*B*C*D\n",
    "\n",
    "def dM_encdr(r, P, M_enc): #this is the same as previously\n",
    "    rho = P_to_rho(P)\n",
    "    return 4*np.pi*r**2*rho"
   ]
  },
  {
   "cell_type": "markdown",
   "metadata": {},
   "source": [
    "Again, let's look at one of iteration"
   ]
  },
  {
   "cell_type": "code",
   "execution_count": 14,
   "metadata": {},
   "outputs": [],
   "source": [
    "# Initial conditions\n",
    "M_enc0 = 0 \n",
    "rho0 = 1e14 #g/cm^-3\n",
    "P0 = rho_to_P(rho0)"
   ]
  },
  {
   "cell_type": "code",
   "execution_count": 15,
   "metadata": {},
   "outputs": [
    {
     "name": "stderr",
     "output_type": "stream",
     "text": [
      "/usr/local/lib/python3.6/dist-packages/astropy/units/quantity.py:464: RuntimeWarning: invalid value encountered in power\n",
      "  result = super().__array_ufunc__(function, method, *arrays, **kwargs)\n"
     ]
    }
   ],
   "source": [
    "# Perform the integration\n",
    "km = 1e5 # km ->cm\n",
    "Rs = np.linspace(0, 50*km, r_step)\n",
    "Ps, M_encs = RK4(Rs, dPdr_TOV, P0, dM_encdr, M_enc0)"
   ]
  },
  {
   "cell_type": "code",
   "execution_count": 16,
   "metadata": {
    "scrolled": true
   },
   "outputs": [
    {
     "data": {
      "image/png": "[encoded data removed]",
      "text/plain": [
       "<Figure size 432x288 with 2 Axes>"
      ]
     },
     "metadata": {
      "needs_background": "light"
     },
     "output_type": "display_data"
    }
   ],
   "source": [
    "# Plot P and M_enc versus radius\n",
    "ax1 = subplot(211)\n",
    "ax1.plot(Rs/km, M_encs/M_sun)\n",
    "ax1.set_ylabel(r'$M_{\\rm enc}~(M_\\odot)$')\n",
    "ax1.set_xticklabels([])\n",
    "ax2 = subplot(212)\n",
    "ax2.plot(Rs/km, Ps)\n",
    "ax2.set_xlabel(r'$R~({\\rm km})$')\n",
    "ax2.set_ylabel(r'$P~({\\rm Ba})$')\n",
    "tight_layout()"
   ]
  },
  {
   "cell_type": "markdown",
   "metadata": {},
   "source": [
    "We can see that everything is working pretty much as we expect. Therefore, let's go through and get the mass-radius diagram."
   ]
  },
  {
   "cell_type": "code",
   "execution_count": 17,
   "metadata": {},
   "outputs": [
    {
     "name": "stderr",
     "output_type": "stream",
     "text": [
      "/usr/local/lib/python3.6/dist-packages/astropy/units/quantity.py:464: RuntimeWarning: invalid value encountered in power\n",
      "  result = super().__array_ufunc__(function, method, *arrays, **kwargs)\n"
     ]
    }
   ],
   "source": [
    "M_enc0 = 0 \n",
    "Rs = np.linspace(0, 50*km, r_step)\n",
    "rho0s = np.logspace(14, 16, rho_step) #g/cm^3\n",
    "\n",
    "masses = np.zeros(len(rho0s)) #save the outputs in these\n",
    "radii = np.zeros(len(rho0s))\n",
    "\n",
    "for i, rho0 in enumerate(rho0s):\n",
    "    P0 = rho_to_P(rho0)\n",
    "    # Perform the integration\n",
    "    Ps, M_encs = RK4(Rs, dPdr_TOV, P0, dM_encdr, M_enc0)\n",
    "    M, R = get_mass_radius(Rs, Ps, M_encs)\n",
    "    masses[i] = M/M_sun\n",
    "    radii[i] = R/km\n"
   ]
  },
  {
   "cell_type": "code",
   "execution_count": 18,
   "metadata": {},
   "outputs": [
    {
     "data": {
      "text/plain": [
       "Text(0.5, 0, '$R~({\\\\rm km})$')"
      ]
     },
     "execution_count": 18,
     "metadata": {},
     "output_type": "execute_result"
    },
    {
     "data": {
      "image/png": "[encoded data removed]",
      "text/plain": [
       "<Figure size 432x288 with 1 Axes>"
      ]
     },
     "metadata": {
      "needs_background": "light"
     },
     "output_type": "display_data"
    }
   ],
   "source": [
    "plot(radii, masses, 'k.')\n",
    "ylabel(r'$M~(M_\\odot)$')\n",
    "xlabel(r'$R~({\\rm km})$')"
   ]
  },
  {
   "cell_type": "markdown",
   "metadata": {},
   "source": [
    "In this case, we can see a bit of a turnover, which is characteristic of many nucleon-based $M-R$ relations for neutron stars. However, we note that this line does seem to deviate a bit where the \"canonical\" pulsar, a 1.4 $M_\\odot$, $R  = 12$ km object, is concerned."
   ]
  },
  {
   "cell_type": "markdown",
   "metadata": {},
   "source": [
    "-----\n",
    "\n",
    "## Q3:\n",
    "\n",
    "The Neutron Star Interior Composition Explorer (NICER) measured the radius and mass of PSR J0030+0451 to be $R = 13.02_{-1.06}^{+1.24}$~km and $M = 1.44_{-0.14}^{+0.15} M_\\odot$, respectively. Numerically calculate the expected mass of a neutron star with an equation of state governed by the TOV equation and with a radius of 13.02 km. It will likely not be as observed!"
   ]
  },
  {
   "cell_type": "markdown",
   "metadata": {},
   "source": [
    "I will interpolate the line using `scipy` rather than my own code just for reference on how that can be used."
   ]
  },
  {
   "cell_type": "code",
   "execution_count": 19,
   "metadata": {},
   "outputs": [
    {
     "name": "stdout",
     "output_type": "stream",
     "text": [
      "Predicted Mass of PSR J0030+0451: 0.72 M_sun\n"
     ]
    }
   ],
   "source": [
    "f = interp1d(radii, masses)\n",
    "R_J0030 = 13.02\n",
    "M_J0030 = f(R_J0030)\n",
    "print(\"Predicted Mass of PSR J0030+0451: %0.2f M_sun\"%M_J0030)"
   ]
  },
  {
   "cell_type": "markdown",
   "metadata": {},
   "source": [
    "As expected, our predicted mass of the pulsar differs from observations, indicating that the TOV equation is an _incomplete_ description of the equation of state for a neutron star."
   ]
  }
 ],
 "metadata": {
  "kernelspec": {
   "display_name": "Python 3",
   "language": "python",
   "name": "python3"
  },
  "language_info": {
   "codemirror_mode": {
    "name": "ipython",
    "version": 3
   },
   "file_extension": ".py",
   "mimetype": "text/x-python",
   "name": "python",
   "nbconvert_exporter": "python",
   "pygments_lexer": "ipython3",
   "version": "3.6.9"
  }
 },
 "nbformat": 4,
 "nbformat_minor": 2
}
