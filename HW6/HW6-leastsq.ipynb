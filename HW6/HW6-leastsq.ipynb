{
 "cells": [
  {
   "cell_type": "markdown",
   "metadata": {},
   "source": [
    "# Homework 6: The Cepheid Period-Luminosity-Metallicity Relation"
   ]
  },
  {
   "cell_type": "code",
   "execution_count": 1,
   "metadata": {},
   "outputs": [],
   "source": [
    "%matplotlib inline\n",
    "import numpy as np\n",
    "from matplotlib.pyplot import *\n",
    "from matplotlib import rc\n",
    "import scipy.stats as stats\n",
    "from IPython.display import display, Markdown, Latex\n",
    "\n",
    "# Make more readable plots\n",
    "rc('font',**{'size':14})\n",
    "rc('xtick',**{'labelsize':16})\n",
    "rc('ytick',**{'labelsize':16})\n",
    "rc('axes',**{'labelsize':18,'titlesize':18})"
   ]
  },
  {
   "cell_type": "markdown",
   "metadata": {},
   "source": [
    "Load in the data file here. The values are:\n",
    "\n",
    "+ P = Period (days)\n",
    "+ D = Distance (kpc)\n",
    "+ V = $V$ band (mag)\n",
    "+ J = $J$ band (mag)\n",
    "+ H = $H$ band (mag)\n",
    "+ K = $K$ band (mag)\n",
    "+ E = Color excess/reddening, $E_{B-V}$ (mag)\n",
    "+ Z = Metallicity ([Fe/H])"
   ]
  },
  {
   "cell_type": "code",
   "execution_count": 2,
   "metadata": {},
   "outputs": [],
   "source": [
    "P, D, V, J, H, K, E, Z = np.loadtxt(\"cepheid_data.txt\", unpack=True, usecols=range(1, 9), delimiter=',')\n",
    "logP = np.log10(P)"
   ]
  },
  {
   "cell_type": "markdown",
   "metadata": {},
   "source": [
    "Recall that the model we are trying to fit to the data is of the form\n",
    "\n",
    "$$M_\\lambda = \\alpha + \\beta \\log P + \\gamma\\mathrm{[Fe/H]}$$\n",
    "\n",
    "where $M_\\lambda$ is the absolute magnitude at a given wavelength $\\lambda$.\n",
    "\n",
    "Our first task is to color correct the data for input into the least squares algorithm. As noted in the prompt, the _reddening_ is $E_{B-V} = A_B - A_V$, with $A_\\lambda$ being the extinction at a wavelength $\\lambda$ in magnitudes. Via Draine (2011), we given that the average value of $R_V = A_V / E_{B-V} \\approx 3.1$ in the Milky Way. Therefore, we just have that $A_V \\approx 3.1 E_{B-V}$ and we can solve for the $V$-band extinction. Since we also know the relation between the different extinction values, given as $A_\\lambda/A_V$, then we can indeed solve for all four values of $A_\\lambda$."
   ]
  },
  {
   "cell_type": "code",
   "execution_count": 3,
   "metadata": {},
   "outputs": [],
   "source": [
    "A_V = 3.1*E\n",
    "A_J = 0.271*A_V\n",
    "A_H = 0.175*A_V\n",
    "A_K = 0.117*A_V"
   ]
  },
  {
   "cell_type": "markdown",
   "metadata": {},
   "source": [
    "Let's apply the distance modulus here to get the absolute magnitudes in each band."
   ]
  },
  {
   "cell_type": "code",
   "execution_count": 4,
   "metadata": {},
   "outputs": [],
   "source": [
    "M_V = V - 5*np.log10(D*1000) + 5 - A_V\n",
    "M_J = J - 5*np.log10(D*1000) + 5 - A_J\n",
    "M_H = H - 5*np.log10(D*1000) + 5 - A_H\n",
    "M_K = K - 5*np.log10(D*1000) + 5 - A_K\n",
    "bands = [\"V\", \"J\", \"H\", \"K\"]\n",
    "Ms = [M_V, M_J, M_H, M_K]"
   ]
  },
  {
   "cell_type": "markdown",
   "metadata": {},
   "source": [
    "-----\n",
    "\n",
    "## Q1: \n",
    "\n",
    "Using linear least squares, estimate the parameters in the boxed equation above, $\\alpha$, $\\beta$, and $\\gamma$, and their uncertainties. You can pick your favorite photometric band."
   ]
  },
  {
   "cell_type": "markdown",
   "metadata": {},
   "source": [
    "The design matrix will have the form\n",
    "$$\\mathbf{X} = \\begin{pmatrix}\n",
    "1 & \\log P_0 & Z_0 \\\\\n",
    "1 & \\log P_1 & Z_1 \\\\\n",
    " & \\vdots & \\\\\n",
    "1 & \\log P_n & Z_n \\\\\n",
    "\\end{pmatrix}$$\n",
    "while the parameter vector is \n",
    "$$\\boldsymbol{\\theta} = \\begin{pmatrix}\n",
    "\\alpha \\\\ \\beta \\\\ \\gamma\n",
    "\\end{pmatrix}$$\n",
    "\n",
    "The code below will also produce a design matrix without the column of metallicities, for the bonus problem."
   ]
  },
  {
   "cell_type": "code",
   "execution_count": 5,
   "metadata": {},
   "outputs": [],
   "source": [
    "def get_design_matrix(metallicity=True):\n",
    "    if metallicity:\n",
    "        X = np.zeros((len(logP), 3)) # An Nx3 matrix\n",
    "        X[:, 0] = 1\n",
    "        X[:, 1] = logP\n",
    "        X[:, 2] = Z\n",
    "    else:\n",
    "        X = np.zeros((len(logP), 2)) # An Nx2 matrix\n",
    "        X[:, 0] = 1\n",
    "        X[:, 1] = logP\n",
    "    return np.matrix(X)"
   ]
  },
  {
   "cell_type": "markdown",
   "metadata": {},
   "source": [
    "The general form of the parameter estimates from least squares is given by \n",
    "\n",
    "$$ \\boldsymbol{\\hat{\\theta}} = (\\mathbf{X}^\\dagger \\mathbf{V}^{-1}\\mathbf{X})^{-1}\\mathbf{X}^\\dagger\\mathbf{V}^{-1}\\mathbf{y} $$\n",
    "\n",
    "and the covariance matrix of the parameters is\n",
    "\n",
    "$$ \\mathbf{P} =(\\mathbf{X}^\\dagger \\mathbf{V}^{-1}\\mathbf{X})^{-1}$$\n",
    "\n",
    "The two functions below can take a covariance matrix $\\mathbf{V}$ but do not need to. In the errorless case, then the $\\mathbf{V}$ goes away, and then $\\boldsymbol{\\hat{\\theta}} \\to \\boldsymbol{\\theta}$."
   ]
  },
  {
   "cell_type": "code",
   "execution_count": 6,
   "metadata": {},
   "outputs": [],
   "source": [
    "def leastsq(X, y, V=None):\n",
    "    \"\"\"\n",
    "    X = design matrix\n",
    "    y = data vector\n",
    "    V = covariance matrix\n",
    "    \n",
    "    Return: theta, parameter estimates\n",
    "    \"\"\"\n",
    "    XT = X.T\n",
    "    yvec = np.matrix(y).T\n",
    "    if V is None:\n",
    "        return np.linalg.inv(XT*X)*XT*yvec\n",
    "    else:\n",
    "        Vinv = np.linalg.inv(V)\n",
    "        return np.linalg.inv(XT*Vinv*X)*XT*Vinv*yvec\n",
    "def param_cov(X, V=None):\n",
    "    \"\"\"\n",
    "    X = design matrix\n",
    "    V = covariance matrix\n",
    "    \n",
    "    Return: \n",
    "    \"\"\"\n",
    "    if V is None:\n",
    "        return np.sqrt(np.diagonal(np.linalg.inv(X.T*X)))\n",
    "    else:\n",
    "        return np.sqrt(np.diagonal(np.linalg.inv(X.T*np.linalg.inv(V)*X)))"
   ]
  },
  {
   "cell_type": "markdown",
   "metadata": {},
   "source": [
    "For each of our bands, we will solve for the best parameters"
   ]
  },
  {
   "cell_type": "code",
   "execution_count": 7,
   "metadata": {},
   "outputs": [
    {
     "data": {
      "text/markdown": [
       "$V$-band parameters: $\\hat{\\alpha} = -2.160, \\hat{\\beta} = -2.127, \\\n",
       "                     \\hat{\\gamma} = -0.094$"
      ],
      "text/plain": [
       "<IPython.core.display.Markdown object>"
      ]
     },
     "metadata": {},
     "output_type": "display_data"
    },
    {
     "data": {
      "text/markdown": [
       "$J$-band parameters: $\\hat{\\alpha} = -3.018, \\hat{\\beta} = -2.638, \\\n",
       "                     \\hat{\\gamma} = -0.077$"
      ],
      "text/plain": [
       "<IPython.core.display.Markdown object>"
      ]
     },
     "metadata": {},
     "output_type": "display_data"
    },
    {
     "data": {
      "text/markdown": [
       "$H$-band parameters: $\\hat{\\alpha} = -3.203, \\hat{\\beta} = -2.800, \\\n",
       "                     \\hat{\\gamma} = -0.017$"
      ],
      "text/plain": [
       "<IPython.core.display.Markdown object>"
      ]
     },
     "metadata": {},
     "output_type": "display_data"
    },
    {
     "data": {
      "text/markdown": [
       "$K$-band parameters: $\\hat{\\alpha} = -3.266, \\hat{\\beta} = -2.834, \\\n",
       "                     \\hat{\\gamma} = -0.060$"
      ],
      "text/plain": [
       "<IPython.core.display.Markdown object>"
      ]
     },
     "metadata": {},
     "output_type": "display_data"
    }
   ],
   "source": [
    "X = get_design_matrix()\n",
    "params = np.zeros((4, 3))\n",
    "for i, M in enumerate(Ms):\n",
    "    band = bands[i]\n",
    "    p = leastsq(X, M)\n",
    "    # below is a set of functions specifically for Jupyter notebooks\n",
    "    display(Markdown(r'$%s$-band parameters: $\\hat{\\alpha} = %0.3f, \\hat{\\beta} = %0.3f, \\\n",
    "                     \\hat{\\gamma} = %0.3f$'%(band, p[0], p[1], p[2])))\n",
    "    params[i, :] = np.transpose(p)"
   ]
  },
  {
   "cell_type": "markdown",
   "metadata": {},
   "source": [
    "Remember, because there are no errors, there are no errors on the parameters! However, below is the set of parameter errors if you run through and assume $\\mathbf{V} = \\mathbf{I}$. Note that regardless of which magnitude band you use, that does not factor in and you will always get the same values."
   ]
  },
  {
   "cell_type": "markdown",
   "metadata": {},
   "source": [
    "-----\n",
    "\n",
    "## Q2: \n",
    "\n",
    "Please plot your fit against the data. You can do this in a number of ways, I leave that to you as long as you can demonstrate that the fit is good (this is also a good check for you!).\n",
    "\n",
    "\n",
    "Plot the best-fit model for $V$ band as a function of $\\log P$, ignoring the metallicity."
   ]
  },
  {
   "cell_type": "code",
   "execution_count": 8,
   "metadata": {},
   "outputs": [
    {
     "data": {
      "image/png": "[encoded data removed]",
      "text/plain": [
       "<Figure size 432x288 with 1 Axes>"
      ]
     },
     "metadata": {
      "needs_background": "light"
     },
     "output_type": "display_data"
    }
   ],
   "source": [
    "alpha, beta, gamma = params[0, :] #get V-band bet parameters\n",
    "plot(logP, M_V, 'k.')\n",
    "plot(logP, alpha + beta*logP) #ignore metallicity\n",
    "dm = np.ptp(M_V) #maximum extent of magnitudes\n",
    "ylim(np.max(M_V)+0.1*dm, np.min(M_V)-0.1*dm)\n",
    "xlabel(r'$\\log_{10} (P / {\\rm days})$')\n",
    "ylabel(r\"$M_V$\")\n",
    "show()"
   ]
  },
  {
   "cell_type": "markdown",
   "metadata": {},
   "source": [
    "We can also plot the residuals, this time we will include metallicity"
   ]
  },
  {
   "cell_type": "code",
   "execution_count": 9,
   "metadata": {},
   "outputs": [
    {
     "data": {
      "image/png": "[encoded data removed]",
      "text/plain": [
       "<Figure size 432x288 with 1 Axes>"
      ]
     },
     "metadata": {
      "needs_background": "light"
     },
     "output_type": "display_data"
    }
   ],
   "source": [
    "model = alpha + beta*logP + gamma*Z\n",
    "residuals = M_V - model\n",
    "plot(logP, residuals, 'k.')\n",
    "dm = np.ptp(residuals) #maximum extent of magnitudes\n",
    "ylim(np.max(residuals)+0.1*dm, np.min(residuals)-0.1*dm)\n",
    "xlabel(r'$\\log_{10} (P / {\\rm days})$')\n",
    "ylabel(r\"$M_V - \\hat{M}_V$\")\n",
    "show()"
   ]
  },
  {
   "cell_type": "markdown",
   "metadata": {},
   "source": [
    "Or, to perhaps visualize it easier and spread the points out, versus just the observation number"
   ]
  },
  {
   "cell_type": "code",
   "execution_count": 10,
   "metadata": {},
   "outputs": [
    {
     "data": {
      "image/png": "[encoded data removed]",
      "text/plain": [
       "<Figure size 432x288 with 1 Axes>"
      ]
     },
     "metadata": {
      "needs_background": "light"
     },
     "output_type": "display_data"
    }
   ],
   "source": [
    "plot(residuals, 'k.')\n",
    "dm = np.ptp(residuals) #maximum extent of magnitudes\n",
    "ylim(np.max(residuals)+0.1*dm, np.min(residuals)-0.1*dm)\n",
    "xlabel(r'Observation Index')\n",
    "ylabel(r\"$M_V - \\hat{M}_V$\")\n",
    "show()"
   ]
  },
  {
   "cell_type": "markdown",
   "metadata": {},
   "source": [
    "-----\n",
    "\n",
    "## Q3: \n",
    "\n",
    "Assume that the errors on the apparent magnitudes are all $\\sigma_m$ = 0.1 mag. Repeat the estimate of the parameters and their uncertainties."
   ]
  },
  {
   "cell_type": "code",
   "execution_count": 11,
   "metadata": {},
   "outputs": [],
   "source": [
    "V = np.matrix(np.identity(len(logP)) * 0.1)"
   ]
  },
  {
   "cell_type": "code",
   "execution_count": 12,
   "metadata": {},
   "outputs": [
    {
     "data": {
      "text/markdown": [
       "$V$-band parameters: $\\hat{\\alpha} = -2.160, \\hat{\\beta} = -2.127, \\\n",
       "                     \\hat{\\gamma} = -0.094$"
      ],
      "text/plain": [
       "<IPython.core.display.Markdown object>"
      ]
     },
     "metadata": {},
     "output_type": "display_data"
    },
    {
     "data": {
      "text/markdown": [
       "$J$-band parameters: $\\hat{\\alpha} = -3.018, \\hat{\\beta} = -2.638, \\\n",
       "                     \\hat{\\gamma} = -0.077$"
      ],
      "text/plain": [
       "<IPython.core.display.Markdown object>"
      ]
     },
     "metadata": {},
     "output_type": "display_data"
    },
    {
     "data": {
      "text/markdown": [
       "$H$-band parameters: $\\hat{\\alpha} = -3.203, \\hat{\\beta} = -2.800, \\\n",
       "                     \\hat{\\gamma} = -0.017$"
      ],
      "text/plain": [
       "<IPython.core.display.Markdown object>"
      ]
     },
     "metadata": {},
     "output_type": "display_data"
    },
    {
     "data": {
      "text/markdown": [
       "$K$-band parameters: $\\hat{\\alpha} = -3.266, \\hat{\\beta} = -2.834, \\\n",
       "                     \\hat{\\gamma} = -0.060$"
      ],
      "text/plain": [
       "<IPython.core.display.Markdown object>"
      ]
     },
     "metadata": {},
     "output_type": "display_data"
    }
   ],
   "source": [
    "X = get_design_matrix()\n",
    "params = np.zeros((4, 3))\n",
    "for i, M in enumerate(Ms):\n",
    "    band = bands[i]\n",
    "    p = leastsq(X, M, V=V)\n",
    "    # below is a set of functions specifically for Jupyter notebooks\n",
    "    display(Markdown(r'$%s$-band parameters: $\\hat{\\alpha} = %0.3f, \\hat{\\beta} = %0.3f, \\\n",
    "                     \\hat{\\gamma} = %0.3f$'%(band, p[0], p[1], p[2])))\n",
    "    params[i, :] = np.transpose(p)"
   ]
  },
  {
   "cell_type": "markdown",
   "metadata": {},
   "source": [
    "As you can see, the parameter estimates are identical to the ones before. However, this time we have uncertainties on our estimates. Since for each case we are assuming that the errors are the same on all of the observations, then the errors on the parameters are all going to be the same."
   ]
  },
  {
   "cell_type": "code",
   "execution_count": 13,
   "metadata": {},
   "outputs": [
    {
     "data": {
      "text/markdown": [
       "$\\sigma_{\\alpha} = 0.143, \\sigma_{\\beta} = 0.168, \\\n",
       "                \\sigma_{\\gamma} = 0.252$"
      ],
      "text/plain": [
       "<IPython.core.display.Markdown object>"
      ]
     },
     "metadata": {},
     "output_type": "display_data"
    }
   ],
   "source": [
    "cov = param_cov(X)\n",
    "display(Markdown(r'$\\sigma_{\\alpha} = %0.3f, \\sigma_{\\beta} = %0.3f, \\\n",
    "                \\sigma_{\\gamma} = %0.3f$'%(cov[0], cov[1], cov[2])))"
   ]
  },
  {
   "cell_type": "markdown",
   "metadata": {},
   "source": [
    "-----\n",
    "\n",
    "## Bonus: \n",
    "\n",
    "Again assume that the errors on the apparent magnitudes are all $\\sigma_m$ = 0.1 mag. Repeat your least squares estimate and perform it again when you fit a nested model of the form $M = \\alpha + \\beta \\log P$."
   ]
  },
  {
   "cell_type": "code",
   "execution_count": 14,
   "metadata": {},
   "outputs": [
    {
     "data": {
      "text/markdown": [
       "$V$-band parameters: $\\hat{\\alpha} = -2.147, \\hat{\\beta} = -2.147$"
      ],
      "text/plain": [
       "<IPython.core.display.Markdown object>"
      ]
     },
     "metadata": {},
     "output_type": "display_data"
    },
    {
     "data": {
      "text/markdown": [
       "$J$-band parameters: $\\hat{\\alpha} = -3.007, \\hat{\\beta} = -2.654$"
      ],
      "text/plain": [
       "<IPython.core.display.Markdown object>"
      ]
     },
     "metadata": {},
     "output_type": "display_data"
    },
    {
     "data": {
      "text/markdown": [
       "$H$-band parameters: $\\hat{\\alpha} = -3.201, \\hat{\\beta} = -2.804$"
      ],
      "text/plain": [
       "<IPython.core.display.Markdown object>"
      ]
     },
     "metadata": {},
     "output_type": "display_data"
    },
    {
     "data": {
      "text/markdown": [
       "$K$-band parameters: $\\hat{\\alpha} = -3.258, \\hat{\\beta} = -2.847$"
      ],
      "text/plain": [
       "<IPython.core.display.Markdown object>"
      ]
     },
     "metadata": {},
     "output_type": "display_data"
    }
   ],
   "source": [
    "X_nested = get_design_matrix(metallicity=False)\n",
    "params_nested = np.zeros((4, 2))\n",
    "for i, M in enumerate(Ms):\n",
    "    band = bands[i]\n",
    "    p = leastsq(X_nested, M)\n",
    "    display(Markdown(r'$%s$-band parameters: $\\hat{\\alpha} = %0.3f, \\hat{\\beta} = %0.3f$'%(band, p[0], p[1])))\n",
    "    params_nested[i, :] = np.transpose(p)"
   ]
  },
  {
   "cell_type": "markdown",
   "metadata": {},
   "source": [
    "Let's replot the residuals again just to verify:"
   ]
  },
  {
   "cell_type": "code",
   "execution_count": 15,
   "metadata": {
    "scrolled": true
   },
   "outputs": [
    {
     "data": {
      "image/png": "[encoded data removed]",
      "text/plain": [
       "<Figure size 432x288 with 1 Axes>"
      ]
     },
     "metadata": {
      "needs_background": "light"
     },
     "output_type": "display_data"
    }
   ],
   "source": [
    "nested_model = params_nested[0, 0] + params_nested[0, 1]*logP\n",
    "nested_residuals = M_V - nested_model\n",
    "plot(nested_residuals, 'k.')\n",
    "dm = np.ptp(nested_residuals) #maximum extent of magnitudes\n",
    "ylim(np.max(nested_residuals)+0.1*dm, np.min(nested_residuals)-0.1*dm)\n",
    "xlabel(r'Observation Index')\n",
    "ylabel(r\"$M_V - \\hat{M}_V$\")\n",
    "show()"
   ]
  },
  {
   "cell_type": "markdown",
   "metadata": {},
   "source": [
    "There's not really an obviously significant change here.\n",
    "\n",
    "Below I will calculate the $F$ statistic:\n",
    "\n",
    "$$\n",
    "F \\equiv \\frac{\\displaystyle{\\left(\\frac{\\chi_{\\rm nested}^2 - \\chi_{\\rm full}^2}{\\nu_{\\rm nested} - \\nu_{\\rm full}}\\right)}}{\\displaystyle{\\left(\\frac{\\chi_{\\rm full}^2}{\\nu_{\\rm full}}\\right)}},\n",
    "$$\n",
    "where $\\chi^2$ is the chi-squared value for each model, $\\nu$ is the number of degress of freedom. Note that in the original homework prompt and the notes, I swapped the order of the denominator of the numerator, writing $\\nu_{\\rm full} - \\nu_{\\rm nested}$. I had confused myself with the number of degrees of freedom and the number of parameters."
   ]
  },
  {
   "cell_type": "code",
   "execution_count": 16,
   "metadata": {},
   "outputs": [],
   "source": [
    "N = len(residuals)\n",
    "chisq_full = np.sum(residuals**2)\n",
    "chisq_nested = np.sum(nested_residuals**2)\n",
    "dof_full = N - 3\n",
    "dof_nested = N - 2"
   ]
  },
  {
   "cell_type": "code",
   "execution_count": 17,
   "metadata": {},
   "outputs": [
    {
     "name": "stdout",
     "output_type": "stream",
     "text": [
      "0.15027102472157278\n"
     ]
    }
   ],
   "source": [
    "F = ((chisq_nested - chisq_full)/(dof_nested - dof_full)) / (chisq_full / dof_full)\n",
    "print(F)"
   ]
  },
  {
   "cell_type": "code",
   "execution_count": 18,
   "metadata": {},
   "outputs": [
    {
     "name": "stdout",
     "output_type": "stream",
     "text": [
      "P-value: 0.698\n"
     ]
    }
   ],
   "source": [
    "p_value = 1 - stats.f.cdf(F, dof_nested - dof_full, dof_full)\n",
    "print(\"P-value: %0.3f\"%p_value)"
   ]
  },
  {
   "cell_type": "markdown",
   "metadata": {},
   "source": [
    "In the language of p-values, lower p-values indicate more significance. That is, when we talk about the magical threshold of $p = 0.05$, we are saying that there is only a 5% chance that what we are seeing comes from a random fluctuation. In this case, the outcome is pretty probable under the null hypothesis. If instead $F$ was much higher, then we are much higher up on the tail of the $F$-distribution, and so the chance of getting that under the null hypothesis is extremely small."
   ]
  },
  {
   "cell_type": "code",
   "execution_count": 19,
   "metadata": {},
   "outputs": [
    {
     "name": "stdout",
     "output_type": "stream",
     "text": [
      "P-value: 7.207e-08\n"
     ]
    }
   ],
   "source": [
    "p_value = 1 - stats.f.cdf(30, dof_nested - dof_full, dof_full)\n",
    "print(\"P-value: %0.3e\"%p_value)"
   ]
  }
 ],
 "metadata": {
  "kernelspec": {
   "display_name": "Python 3",
   "language": "python",
   "name": "python3"
  },
  "language_info": {
   "codemirror_mode": {
    "name": "ipython",
    "version": 3
   },
   "file_extension": ".py",
   "mimetype": "text/x-python",
   "name": "python",
   "nbconvert_exporter": "python",
   "pygments_lexer": "ipython3",
   "version": "3.6.9"
  }
 },
 "nbformat": 4,
 "nbformat_minor": 2
}
