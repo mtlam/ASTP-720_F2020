{
 "cells": [
  {
   "cell_type": "markdown",
   "metadata": {},
   "source": [
    "# Homework 3: The Content of Galaxies\n",
    "\n",
    "## Q1:\n",
    "These unit tests are provided in `tests/test_matrix.py`. To run, enter the `tests/` directory and run python on the script."
   ]
  },
  {
   "cell_type": "code",
   "execution_count": 1,
   "metadata": {},
   "outputs": [],
   "source": [
    "%matplotlib inline\n",
    "import numpy as np\n",
    "from matplotlib.pyplot import *\n",
    "\n",
    "import astropy.units as un\n",
    "from astropy import constants as const\n",
    "\n",
    "import sys\n",
    "sys.path.append(\"../HW2/\")\n",
    "from matrix import Matrix, make_matrix\n",
    "from coefficients_reader import read_coefficients"
   ]
  },
  {
   "cell_type": "code",
   "execution_count": 2,
   "metadata": {},
   "outputs": [],
   "source": [
    "# Nice matplotlib rendering\n",
    "from matplotlib import rc\n",
    "\n",
    "rc('text',usetex=True)\n",
    "rc('font',**{'family':'serif','serif':['Times New Roman'],'size':14})#,'weight':'bold'})\n",
    "rc('xtick',**{'labelsize':16})\n",
    "rc('ytick',**{'labelsize':16})\n",
    "rc('axes',**{'labelsize':18,'titlesize':18})"
   ]
  },
  {
   "cell_type": "code",
   "execution_count": null,
   "metadata": {},
   "outputs": [],
   "source": []
  },
  {
   "cell_type": "markdown",
   "metadata": {},
   "source": [
    "## Q2:\n",
    "For a total number density of $N$ = 1 cm$^{-3}$ for convenience, calculate the different number densities as a function of temperature $T$. Make a plot showing the different number densities vary as a function of $T$."
   ]
  },
  {
   "cell_type": "markdown",
   "metadata": {},
   "source": [
    "First, we will define our various relations and functions. Note that each one calls the indices $l$ and $u$ in that order always to avoid confusion."
   ]
  },
  {
   "cell_type": "code",
   "execution_count": 3,
   "metadata": {},
   "outputs": [],
   "source": [
    "def calc_g_n(n):\n",
    "    \"\"\" Calculate degeneracy factor for Hydrogen \"\"\"\n",
    "    return 2*n**2\n",
    "\n",
    "def calc_transition_freq(l, u):\n",
    "    \"\"\" Transition frequency, above could be in either order \"\"\"\n",
    "    E_l = -13.6*un.eV/l**2\n",
    "    E_u = -13.6*un.eV/u**2\n",
    "    dE = abs(E_u - E_l)\n",
    "    return (dE/const.h).to(un.Hz)\n",
    "\n",
    "\n",
    "def calc_B_ul(Adict, l, u):\n",
    "    \"\"\" Given A_ul dictionary, we can calculate B_ul \"\"\"\n",
    "    A_ul = Adict[(l, u)]\n",
    "    \n",
    "    nu = calc_transition_freq(l, u)\n",
    "    \n",
    "    return (A_ul*const.c**2/(2*const.h * nu**3)).decompose()\n",
    "\n",
    "def calc_B_lu(Adict, l, u):\n",
    "    \"\"\" Given A_ul dictionary, we can calculate B_lu \"\"\"\n",
    "    B_ul = calc_B_ul(Adict, l, u)\n",
    "    g_l = calc_g_n(l)\n",
    "    g_u = calc_g_n(u)\n",
    "    \n",
    "    return (B_ul*g_u/g_l).decompose()\n",
    "\n",
    "def calc_J(nu, T):\n",
    "    return ((2*const.h*nu**3/const.c**2)/(np.exp((const.h*nu)/(const.k_B*T))-1)).decompose()"
   ]
  },
  {
   "cell_type": "markdown",
   "metadata": {},
   "source": [
    "Load data:"
   ]
  },
  {
   "cell_type": "code",
   "execution_count": 4,
   "metadata": {},
   "outputs": [],
   "source": [
    "Adict = read_coefficients()"
   ]
  },
  {
   "cell_type": "markdown",
   "metadata": {},
   "source": [
    "Let's test some of our functions to make sure they have the right units and such."
   ]
  },
  {
   "cell_type": "code",
   "execution_count": 5,
   "metadata": {},
   "outputs": [
    {
     "name": "stdout",
     "output_type": "stream",
     "text": [
      "4123298.6 1 / s\n",
      "8888053221.867712 s / kg\n",
      "222201330546.6928 s / kg\n",
      "3156926780865238.5 Hz\n",
      "1.6635138230866307e-15 kg / s2\n",
      "0.00036963498487266506 1 / s\n"
     ]
    }
   ],
   "source": [
    "print(Adict[(1, 5)])\n",
    "print(calc_B_ul(Adict, 1, 5))\n",
    "print(calc_B_lu(Adict, 1, 5))\n",
    "print(calc_transition_freq(1, 5))\n",
    "J = calc_J(1e14*un.Hz, 300*un.K)\n",
    "print(J)\n",
    "print(calc_B_lu(Adict, 1, 5)*J)"
   ]
  },
  {
   "cell_type": "markdown",
   "metadata": {},
   "source": [
    "How do we populate the matrix? Let's look broadly at the terms that go on either side of the equation set. To start, the way I've written it, the left-hand side are terms where we are transitioning _out_ of the level. The right-hand side are terms where we are transitioning in. If we write it as a system of equations **Mx = b**, (using **M** to avoid confusion with $A_{ul}$) where **b = 0**, then we move all of the RHS terms to the LHS with negatives. Or, in summary, we have a system of equations where for each line, we have positive terms describing transitions out of the state and negative terms describing transitions into the state.\n",
    "\n",
    "Let's say we are in state $i$. What are the terms transitioning out of the state? You can go up or down. Going up via absorption of radiation requires:\n",
    "\\begin{equation}\n",
    "n_i \\left(\\sum_{u > i} B_{iu}\\right)\\bar{J}\n",
    "\\end{equation}\n",
    "Similarly, we can go down via stimulated emission:\n",
    "\\begin{equation}\n",
    "n_i \\left(\\sum_{l < i} B_{il}\\right)\\bar{J}\n",
    "\\end{equation}\n",
    "We can also go down via spontaneous emission:\n",
    "\\begin{equation}\n",
    "n_i \\left(\\sum_{l < i} A_{il}\\right)\n",
    "\\end{equation}\n",
    "If you look at the first two terms, you'll notice that really, we can combine them as all of the $B$ values that involve an $i$, since there is no $B_{ii}$ term. But since the order to the indices matters, I will keep them separate notationally.\n",
    "\n",
    "Now let's consider all of the terms going into the state. You can come from a lower state via absorption of radiation:\n",
    "\\begin{equation}\n",
    "-\\left(\\sum_{l < i} n_l B_{li}\\right)\\bar{J}\n",
    "\\end{equation}\n",
    "Here, we see an advantage to simply keeping all of the terms inside of the summation. Let's do that for coming from an upper state via stimulated emission:\n",
    "\\begin{equation}\n",
    "-\\left(\\sum_{u > i} n_u B_{iu} \\bar{J}\\right)\n",
    "\\end{equation} \n",
    "And similarly for spontaneous emission from an upper level to your level:\n",
    "\\begin{equation}\n",
    "- \\left(\\sum_{l < i} n_u A_{ui}\\right)\n",
    "\\end{equation}\n",
    "\n",
    "To make our lives simpler, we could say that _every_ matrix element has these six terms. The conditions on the summations mean that there may be no indices that satisfy the condition, and therefore there is no summation, i.e, that term is zero.\n",
    "\n",
    "However, let's look at the structure of the matrix more closely. As noted by example for the three-level detailed balance matrix, the system of equations that we write down has some properties. We have the current state we are discussing as each row $i$. The positive terms exist all along the diagonals, representing all of the transitions out of state $i$. For the off-diagonals, the columns $j$ represent and transitions _into_ state $i$. The elements below the diagonal represent transitions into the state from a lower one, only possible by absorption. The elements above the diagonal reresent transitions into the state from an upper one, possible by stimulated or spontaneous emission. Since we are dealing directly between states, it means that these will either have one or two terms, respectively. Therefore, given all of these conditions, we could construct the matrix by iterating through each $M_{ij}$ and noting the restrictions.\n"
   ]
  },
  {
   "cell_type": "markdown",
   "metadata": {},
   "source": [
    "Let's populate the matrix $M$ as a function with a temperature $T$ in order to calculate the subsequent $\\bar{J}$ factors. "
   ]
  },
  {
   "cell_type": "code",
   "execution_count": 6,
   "metadata": {},
   "outputs": [],
   "source": [
    "def make_M(T=20000*un.K):\n",
    "    M = make_matrix(9, 9) #make an empty matrix\n",
    "\n",
    "    for i in range(1, 10): #row of the element we are considering\n",
    "        for j in range(1, 10): #column of the element we are considering\n",
    "            if i == j: #Diagonal term, collect all terms transitioning out of state\n",
    "                # Absorption from this state to an upper one\n",
    "                for u in range(i+1, 10):\n",
    "                    nu = calc_transition_freq(i, u)\n",
    "                    M[i-1, j-1] += (calc_B_lu(Adict, i, u)*calc_J(nu, T)).value\n",
    "                # Stimulated emission from this state to a lower one\n",
    "                for l in range(1, i):\n",
    "                    nu = calc_transition_freq(l, i)\n",
    "                    M[i-1, j-1] += (calc_B_ul(Adict, l, i)*calc_J(nu, T)).value\n",
    "                # Spontaneous emission from this state to a lower one\n",
    "                for l in range(1, i):\n",
    "                    A_ul = Adict[(l, i)]\n",
    "                    M[i-1, j-1] += A_ul.value\n",
    "            elif i < j: # above the diagonal, so all emission into the state from an upper one.\n",
    "                A_ul = Adict[(i, j)]\n",
    "                nu = calc_transition_freq(i, j)\n",
    "                M[i-1, j-1] += -(A_ul + calc_B_ul(Adict, i, j)*calc_J(nu, T)).value\n",
    "            elif i > j: #below the diagonal, so all absorption into the state from a lower one.\n",
    "                nu = calc_transition_freq(j, i)\n",
    "                M[i-1, j-1] += -(calc_B_lu(Adict, j, i)*calc_J(nu, T)).value   \n",
    "    return M"
   ]
  },
  {
   "cell_type": "markdown",
   "metadata": {},
   "source": [
    "Now solve the system **Mx = b = 0**. I, in fact, screwed up when thinking about this. There can be multiple solutions to this, one of which is all of the densities = 0. This is obviously bad. One numberic trick is to input a perturbed value, i.e., the small value below."
   ]
  },
  {
   "cell_type": "code",
   "execution_count": 7,
   "metadata": {},
   "outputs": [
    {
     "name": "stdout",
     "output_type": "stream",
     "text": [
      "n_1 = 0.87700 cm^-3\n",
      "n_2 = 0.00944 cm^-3\n",
      "n_3 = 0.00710 cm^-3\n",
      "n_4 = 0.00860 cm^-3\n",
      "n_5 = 0.01125 cm^-3\n",
      "n_6 = 0.01470 cm^-3\n",
      "n_7 = 0.01888 cm^-3\n",
      "n_8 = 0.02375 cm^-3\n",
      "n_9 = 0.02929 cm^-3\n"
     ]
    }
   ],
   "source": [
    "M = make_M(20000*un.K)\n",
    "b = make_matrix(9, 1, value=0.00001)\n",
    "\n",
    "x = M.solve_linear_system(b)\n",
    "\n",
    "array = list(map(lambda x: x[0], x.array)) #grab values\n",
    "array = list(map(lambda x: x/array[0], array)) #divide by first value to get ratios.\n",
    "array = list(map(lambda x: x/sum(array), array)) #divide by total to get in terms of 1 cm^-3\n",
    "for i, elem in enumerate(array):\n",
    "    print(\"n_%i = %0.5f cm^-3\"%(i+1, elem))"
   ]
  },
  {
   "cell_type": "markdown",
   "metadata": {},
   "source": [
    "Make plots below as a function of temperature\n",
    "\n"
   ]
  },
  {
   "cell_type": "code",
   "execution_count": 8,
   "metadata": {},
   "outputs": [],
   "source": [
    "# Make a helper function to do the thing as above\n",
    "def get_densities(T):\n",
    "    M = make_M(T)\n",
    "    b = make_matrix(9, 1, value=0.00001)\n",
    "\n",
    "    x = M.solve_linear_system(b)\n",
    "    array = list(map(lambda x: x[0], x.array)) #grab values\n",
    "    array = list(map(lambda x: x/array[0], array)) #divide by first value to get ratios.\n",
    "    array = list(map(lambda x: x/sum(array), array)) #divide by total to get in terms of 1 cm^-3\n",
    "    \n",
    "    return array"
   ]
  },
  {
   "cell_type": "code",
   "execution_count": 9,
   "metadata": {},
   "outputs": [],
   "source": [
    "Ts = np.logspace(3, 7, 30)*un.K\n",
    "\n",
    "data = np.zeros((9, 30)) # 9 densities, 30 temperatures\n",
    "\n",
    "for i, T in enumerate(Ts):\n",
    "    data[:, i] = get_densities(T)"
   ]
  },
  {
   "cell_type": "code",
   "execution_count": 10,
   "metadata": {},
   "outputs": [
    {
     "name": "stderr",
     "output_type": "stream",
     "text": [
      "findfont: Font family ['serif'] not found. Falling back to DejaVu Sans.\n"
     ]
    },
    {
     "data": {
      "image/png": "[encoded data removed]",
      "text/plain": [
       "<Figure size 576x432 with 1 Axes>"
      ]
     },
     "metadata": {
      "needs_background": "light"
     },
     "output_type": "display_data"
    }
   ],
   "source": [
    "figure(figsize=(8,6))\n",
    "for i in range(9):\n",
    "    plot(Ts, data[i, :], label=r\"$n_%i$\"%(i+1))\n",
    "xscale('log')\n",
    "xlabel('Temperature (K)')\n",
    "ylabel(r'Density (cm$^{-3}$)')\n",
    "legend(ncol=3)\n",
    "show()"
   ]
  },
  {
   "cell_type": "markdown",
   "metadata": {},
   "source": [
    "As one might expect, at low temperatures, there is not enough energy to ionize hydrogen. Given the rule of thumb that $10^4$ K ~ 1 eV (0.86 eV) thermal energy, then we see that right around a few eV, ionization begins to occur, and that by around $10^5$ K, few electrons remain in the ground state, which is to be expected. It takes 10.2 eV to go send an electron from the $n=1$ to $n=2$ state, and not too much more to become fully ionized (13.6 eV ~ $1.6 \\times 10^5$ K). Of course, our model has a little flaw in that we do not allow our atoms to ionize, restricting our atoms to be in one of the nine states."
   ]
  }
 ],
 "metadata": {
  "kernelspec": {
   "display_name": "Python 3",
   "language": "python",
   "name": "python3"
  },
  "language_info": {
   "codemirror_mode": {
    "name": "ipython",
    "version": 3
   },
   "file_extension": ".py",
   "mimetype": "text/x-python",
   "name": "python",
   "nbconvert_exporter": "python",
   "pygments_lexer": "ipython3",
   "version": "3.6.9"
  }
 },
 "nbformat": 4,
 "nbformat_minor": 2
}
